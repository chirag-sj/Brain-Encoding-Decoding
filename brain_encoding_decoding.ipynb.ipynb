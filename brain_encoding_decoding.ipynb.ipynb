{
 "cells": [
  {
   "cell_type": "code",
   "execution_count": 47,
   "metadata": {},
   "outputs": [],
   "source": [
    "import numpy as np\n",
    "from scipy.spatial.distance import cosine\n",
    "from scipy.stats import pearsonr\n",
    "from sklearn.linear_model import LinearRegression\n",
    "from sklearn.model_selection import KFold\n",
    "import pandas as pd\n",
    "import seaborn as sns\n",
    "import matplotlib.pyplot as plt\n"
   ]
  },
  {
   "cell_type": "markdown",
   "metadata": {},
   "source": [
    "# Load Data"
   ]
  },
  {
   "cell_type": "code",
   "execution_count": 37,
   "metadata": {},
   "outputs": [
    {
     "data": {
      "text/plain": [
       "((627, 11437), (627, 10791), 627)"
      ]
     },
     "execution_count": 37,
     "metadata": {},
     "output_type": "execute_result"
    }
   ],
   "source": [
    "subj_1 = np.load('./subj1.npy',allow_pickle=True).item()\n",
    "subj_2 = np.load('./subj2.npy',allow_pickle=True).item()\n",
    "with open('stimuli.txt', \"r\") as f:\n",
    "    stimuli = f.readlines()\n",
    "\n",
    "all_subj = {}\n",
    "all_subj['subj1'] = subj_1\n",
    "all_subj['subj2'] = subj_2\n",
    "\n",
    "subj_1['language'].shape,subj_2['language'].shape,len(stimuli)"
   ]
  },
  {
   "cell_type": "code",
   "execution_count": 39,
   "metadata": {},
   "outputs": [
    {
     "name": "stdout",
     "output_type": "stream",
     "text": [
      "['language', 'vision', 'dmn', 'task']\n"
     ]
    }
   ],
   "source": [
    "rois = list(subj_1.keys())\n",
    "print(rois)"
   ]
  },
  {
   "cell_type": "markdown",
   "metadata": {},
   "source": [
    "## Evaluation Metrics"
   ]
  },
  {
   "cell_type": "code",
   "execution_count": 40,
   "metadata": {},
   "outputs": [],
   "source": [
    "Y = subj_1['language']\n",
    "\n",
    "def twoVtwo_acc(Y_gt, Y_pred):\n",
    "    n = len(Y_gt)\n",
    "    acc=0\n",
    "    for i in range(n-1):\n",
    "        for j in range(i+1,n):\n",
    "            a = cosine(Y_gt[i], Y_pred[i]) + cosine(Y_gt[j], Y_pred[j])\n",
    "            b = cosine(Y_gt[i], Y_pred[j]) + cosine(Y_gt[j], Y_pred[i])\n",
    "            if a<b:\n",
    "                acc+=1\n",
    "    return acc/(n*(n-1)/2)\n",
    "\n",
    "def pearson(Y_gt, Y_pred):\n",
    "    n = len(Y_gt)\n",
    "    pcorr=0\n",
    "    for i in range(n):\n",
    "        corr = pearsonr(Y_gt[i], Y_pred[i])\n",
    "        pcorr += corr[0]\n",
    "    return pcorr/n"
   ]
  },
  {
   "cell_type": "markdown",
   "metadata": {},
   "source": [
    "# Sentence Representations"
   ]
  },
  {
   "cell_type": "markdown",
   "metadata": {},
   "source": [
    "## CLS Token Embedding & The Pooled Embeddings."
   ]
  },
  {
   "cell_type": "code",
   "execution_count": 17,
   "metadata": {},
   "outputs": [],
   "source": [
    "from transformers import BertTokenizer, BertModel\n",
    "import torch\n",
    "\n",
    "tokenizer = BertTokenizer.from_pretrained('bert-base-uncased')\n",
    "model = BertModel.from_pretrained('bert-base-uncased')\n",
    "\n",
    "encoded_inputs = tokenizer(stimuli, padding=True, truncation=True, return_tensors='pt')\n",
    "\n",
    "with torch.no_grad():\n",
    "    outputs = model(**encoded_inputs)\n",
    "\n",
    "cls_embeddings = outputs.last_hidden_state[:, 0, :]\n",
    "pooled_embeddings = outputs.pooler_output"
   ]
  },
  {
   "cell_type": "code",
   "execution_count": 18,
   "metadata": {},
   "outputs": [
    {
     "name": "stdout",
     "output_type": "stream",
     "text": [
      "Number of sentences: 627 \n",
      "Embedding dimension: 768\n"
     ]
    }
   ],
   "source": [
    "N,D = cls_embeddings.shape\n",
    "print('Number of sentences:', N,'\\nEmbedding dimension:', D)"
   ]
  },
  {
   "cell_type": "markdown",
   "metadata": {},
   "source": [
    "## GloVe Embeddings."
   ]
  },
  {
   "cell_type": "code",
   "execution_count": 19,
   "metadata": {},
   "outputs": [],
   "source": [
    "#load glove embeddings\n",
    "glove = {}\n",
    "with open('glove.6B.100d.txt', 'r') as f:\n",
    "    for line in f:\n",
    "        values = line.split()\n",
    "        word = values[0]\n",
    "        vector = np.asarray(values[1:], \"float32\")\n",
    "        glove[word] = vector\n",
    "#get glove embedding for sentences by averaging word embeddings\n",
    "#do it for each sentence in stimuli\n",
    "glove_embeddings = []\n",
    "for sentence in stimuli:\n",
    "    words = sentence.split()\n",
    "    embeddings = []\n",
    "    for word in words:\n",
    "        if word in glove:\n",
    "            embeddings.append(glove[word])\n",
    "    glove_embeddings.append(np.mean(embeddings, axis=0))\n",
    "    "
   ]
  },
  {
   "cell_type": "code",
   "execution_count": 20,
   "metadata": {},
   "outputs": [
    {
     "data": {
      "text/plain": [
       "(627, 100)"
      ]
     },
     "execution_count": 20,
     "metadata": {},
     "output_type": "execute_result"
    }
   ],
   "source": [
    "len(glove_embeddings),len(glove_embeddings[0])"
   ]
  },
  {
   "cell_type": "code",
   "execution_count": 35,
   "metadata": {},
   "outputs": [],
   "source": [
    "all_embeddings = {}\n",
    "all_embeddings['CLS'] = cls_embeddings.numpy()\n",
    "all_embeddings['Pooled'] = pooled_embeddings.numpy()\n",
    "all_embeddings['Glove'] = np.array(glove_embeddings)"
   ]
  },
  {
   "cell_type": "markdown",
   "metadata": {},
   "source": [
    "# Decoding"
   ]
  },
  {
   "cell_type": "code",
   "execution_count": 54,
   "metadata": {},
   "outputs": [
    {
     "name": "stdout",
     "output_type": "stream",
     "text": [
      "Subject: subj1 ROI: language Embedding: CLS 2v2 accuracy: 0.8510967741935485 Pearson: 0.8068758971638934\n",
      "Subject: subj1 ROI: language Embedding: Pooled 2v2 accuracy: 0.6653910906298003 Pearson: 0.9100663861380346\n",
      "Subject: subj1 ROI: language Embedding: Glove 2v2 accuracy: 0.8819858678955453 Pearson: 0.8857100345471796\n",
      "Subject: subj1 ROI: vision Embedding: CLS 2v2 accuracy: 0.8254410650281618 Pearson: 0.8124908791288756\n",
      "Subject: subj1 ROI: vision Embedding: Pooled 2v2 accuracy: 0.6437861751152074 Pearson: 0.9086956012141914\n",
      "Subject: subj1 ROI: vision Embedding: Glove 2v2 accuracy: 0.8872692268305171 Pearson: 0.8908041654857447\n",
      "Subject: subj1 ROI: dmn Embedding: CLS 2v2 accuracy: 0.830148079877112 Pearson: 0.8167434653219416\n",
      "Subject: subj1 ROI: dmn Embedding: Pooled 2v2 accuracy: 0.6833323092677931 Pearson: 0.920662775602121\n",
      "Subject: subj1 ROI: dmn Embedding: Glove 2v2 accuracy: 0.8550533538146443 Pearson: 0.8891478819726479\n",
      "Subject: subj1 ROI: task Embedding: CLS 2v2 accuracy: 0.8099215565796211 Pearson: 0.8312646723980597\n",
      "Subject: subj1 ROI: task Embedding: Pooled 2v2 accuracy: 0.6262357398873528 Pearson: 0.9214376832516702\n",
      "Subject: subj1 ROI: task Embedding: Glove 2v2 accuracy: 0.8517640552995391 Pearson: 0.9002351248513574\n",
      "Subject: subj2 ROI: language Embedding: CLS 2v2 accuracy: 0.8035621095750128 Pearson: 0.7924009756591713\n",
      "Subject: subj2 ROI: language Embedding: Pooled 2v2 accuracy: 0.6346535586277521 Pearson: 0.8897661241074409\n",
      "Subject: subj2 ROI: language Embedding: Glove 2v2 accuracy: 0.8490502816180235 Pearson: 0.875305706792948\n",
      "Subject: subj2 ROI: vision Embedding: CLS 2v2 accuracy: 0.8048712749615975 Pearson: 0.7999681577557343\n",
      "Subject: subj2 ROI: vision Embedding: Pooled 2v2 accuracy: 0.6246136200716845 Pearson: 0.9009278665167184\n",
      "Subject: subj2 ROI: vision Embedding: Glove 2v2 accuracy: 0.8413247311827957 Pearson: 0.8796475521128773\n",
      "Subject: subj2 ROI: dmn Embedding: CLS 2v2 accuracy: 0.769783922171019 Pearson: 0.79371534767843\n",
      "Subject: subj2 ROI: dmn Embedding: Pooled 2v2 accuracy: 0.5915121351766514 Pearson: 0.8895335659951519\n",
      "Subject: subj2 ROI: dmn Embedding: Glove 2v2 accuracy: 0.7932964669738863 Pearson: 0.8727805081631951\n",
      "Subject: subj2 ROI: task Embedding: CLS 2v2 accuracy: 0.7702250896057348 Pearson: 0.8119788041463165\n",
      "Subject: subj2 ROI: task Embedding: Pooled 2v2 accuracy: 0.6111434715821813 Pearson: 0.8993175552301839\n",
      "Subject: subj2 ROI: task Embedding: Glove 2v2 accuracy: 0.7915178699436765 Pearson: 0.8859629523432648\n"
     ]
    }
   ],
   "source": [
    "decoding_dataframe = pd.DataFrame(columns=['Subject','ROI','Embedding','2v2 accuracy','Pearson'])\n",
    "for subject in all_subj.keys():\n",
    "    for roi in rois:\n",
    "        Y = all_subj[subject][roi]\n",
    "        for embedding in all_embeddings.keys():\n",
    "            # print('Subject:',subject,'ROI:',roi,'Embedding:',embedding)\n",
    "            kfolds = 5\n",
    "            kf = KFold(n_splits=kfolds)\n",
    "            acc_ls = []\n",
    "            pcorr_ls = []\n",
    "            for train_index, test_index in kf.split(Y):\n",
    "                X_train, X_test = Y[train_index], Y[test_index]\n",
    "                Y_train, Y_test = all_embeddings[embedding][train_index], all_embeddings[embedding][test_index]\n",
    "                reg = LinearRegression().fit(X_train, Y_train)\n",
    "                Y_pred = reg.predict(X_test)\n",
    "                acc_ls.append(twoVtwo_acc(Y_test, Y_pred))\n",
    "                pcorr_ls.append(pearson(Y_test, Y_pred))\n",
    "            print('Subject:',subject,'ROI:',roi,'Embedding:',embedding,'2v2 accuracy:',np.mean(acc_ls),'Pearson:',np.mean(pcorr_ls))\n",
    "            decoding_dataframe = decoding_dataframe.append({'Subject':subject,'ROI':roi,'Embedding':embedding,'2v2 accuracy':np.mean(acc_ls),'Pearson':np.mean(pcorr_ls)}, ignore_index=True)"
   ]
  },
  {
   "cell_type": "code",
   "execution_count": 55,
   "metadata": {},
   "outputs": [
    {
     "data": {
      "text/html": [
       "<div>\n",
       "<style scoped>\n",
       "    .dataframe tbody tr th:only-of-type {\n",
       "        vertical-align: middle;\n",
       "    }\n",
       "\n",
       "    .dataframe tbody tr th {\n",
       "        vertical-align: top;\n",
       "    }\n",
       "\n",
       "    .dataframe thead th {\n",
       "        text-align: right;\n",
       "    }\n",
       "</style>\n",
       "<table border=\"1\" class=\"dataframe\">\n",
       "  <thead>\n",
       "    <tr style=\"text-align: right;\">\n",
       "      <th></th>\n",
       "      <th>Subject</th>\n",
       "      <th>ROI</th>\n",
       "      <th>Embedding</th>\n",
       "      <th>2v2 accuracy</th>\n",
       "      <th>Pearson</th>\n",
       "    </tr>\n",
       "  </thead>\n",
       "  <tbody>\n",
       "    <tr>\n",
       "      <th>0</th>\n",
       "      <td>subj1</td>\n",
       "      <td>language</td>\n",
       "      <td>CLS</td>\n",
       "      <td>0.851097</td>\n",
       "      <td>0.806876</td>\n",
       "    </tr>\n",
       "    <tr>\n",
       "      <th>1</th>\n",
       "      <td>subj1</td>\n",
       "      <td>language</td>\n",
       "      <td>Pooled</td>\n",
       "      <td>0.665391</td>\n",
       "      <td>0.910066</td>\n",
       "    </tr>\n",
       "    <tr>\n",
       "      <th>2</th>\n",
       "      <td>subj1</td>\n",
       "      <td>language</td>\n",
       "      <td>Glove</td>\n",
       "      <td>0.881986</td>\n",
       "      <td>0.885710</td>\n",
       "    </tr>\n",
       "    <tr>\n",
       "      <th>3</th>\n",
       "      <td>subj1</td>\n",
       "      <td>vision</td>\n",
       "      <td>CLS</td>\n",
       "      <td>0.825441</td>\n",
       "      <td>0.812491</td>\n",
       "    </tr>\n",
       "    <tr>\n",
       "      <th>4</th>\n",
       "      <td>subj1</td>\n",
       "      <td>vision</td>\n",
       "      <td>Pooled</td>\n",
       "      <td>0.643786</td>\n",
       "      <td>0.908696</td>\n",
       "    </tr>\n",
       "    <tr>\n",
       "      <th>5</th>\n",
       "      <td>subj1</td>\n",
       "      <td>vision</td>\n",
       "      <td>Glove</td>\n",
       "      <td>0.887269</td>\n",
       "      <td>0.890804</td>\n",
       "    </tr>\n",
       "    <tr>\n",
       "      <th>6</th>\n",
       "      <td>subj1</td>\n",
       "      <td>dmn</td>\n",
       "      <td>CLS</td>\n",
       "      <td>0.830148</td>\n",
       "      <td>0.816743</td>\n",
       "    </tr>\n",
       "    <tr>\n",
       "      <th>7</th>\n",
       "      <td>subj1</td>\n",
       "      <td>dmn</td>\n",
       "      <td>Pooled</td>\n",
       "      <td>0.683332</td>\n",
       "      <td>0.920663</td>\n",
       "    </tr>\n",
       "    <tr>\n",
       "      <th>8</th>\n",
       "      <td>subj1</td>\n",
       "      <td>dmn</td>\n",
       "      <td>Glove</td>\n",
       "      <td>0.855053</td>\n",
       "      <td>0.889148</td>\n",
       "    </tr>\n",
       "    <tr>\n",
       "      <th>9</th>\n",
       "      <td>subj1</td>\n",
       "      <td>task</td>\n",
       "      <td>CLS</td>\n",
       "      <td>0.809922</td>\n",
       "      <td>0.831265</td>\n",
       "    </tr>\n",
       "    <tr>\n",
       "      <th>10</th>\n",
       "      <td>subj1</td>\n",
       "      <td>task</td>\n",
       "      <td>Pooled</td>\n",
       "      <td>0.626236</td>\n",
       "      <td>0.921438</td>\n",
       "    </tr>\n",
       "    <tr>\n",
       "      <th>11</th>\n",
       "      <td>subj1</td>\n",
       "      <td>task</td>\n",
       "      <td>Glove</td>\n",
       "      <td>0.851764</td>\n",
       "      <td>0.900235</td>\n",
       "    </tr>\n",
       "    <tr>\n",
       "      <th>12</th>\n",
       "      <td>subj2</td>\n",
       "      <td>language</td>\n",
       "      <td>CLS</td>\n",
       "      <td>0.803562</td>\n",
       "      <td>0.792401</td>\n",
       "    </tr>\n",
       "    <tr>\n",
       "      <th>13</th>\n",
       "      <td>subj2</td>\n",
       "      <td>language</td>\n",
       "      <td>Pooled</td>\n",
       "      <td>0.634654</td>\n",
       "      <td>0.889766</td>\n",
       "    </tr>\n",
       "    <tr>\n",
       "      <th>14</th>\n",
       "      <td>subj2</td>\n",
       "      <td>language</td>\n",
       "      <td>Glove</td>\n",
       "      <td>0.849050</td>\n",
       "      <td>0.875306</td>\n",
       "    </tr>\n",
       "    <tr>\n",
       "      <th>15</th>\n",
       "      <td>subj2</td>\n",
       "      <td>vision</td>\n",
       "      <td>CLS</td>\n",
       "      <td>0.804871</td>\n",
       "      <td>0.799968</td>\n",
       "    </tr>\n",
       "    <tr>\n",
       "      <th>16</th>\n",
       "      <td>subj2</td>\n",
       "      <td>vision</td>\n",
       "      <td>Pooled</td>\n",
       "      <td>0.624614</td>\n",
       "      <td>0.900928</td>\n",
       "    </tr>\n",
       "    <tr>\n",
       "      <th>17</th>\n",
       "      <td>subj2</td>\n",
       "      <td>vision</td>\n",
       "      <td>Glove</td>\n",
       "      <td>0.841325</td>\n",
       "      <td>0.879648</td>\n",
       "    </tr>\n",
       "    <tr>\n",
       "      <th>18</th>\n",
       "      <td>subj2</td>\n",
       "      <td>dmn</td>\n",
       "      <td>CLS</td>\n",
       "      <td>0.769784</td>\n",
       "      <td>0.793715</td>\n",
       "    </tr>\n",
       "    <tr>\n",
       "      <th>19</th>\n",
       "      <td>subj2</td>\n",
       "      <td>dmn</td>\n",
       "      <td>Pooled</td>\n",
       "      <td>0.591512</td>\n",
       "      <td>0.889534</td>\n",
       "    </tr>\n",
       "    <tr>\n",
       "      <th>20</th>\n",
       "      <td>subj2</td>\n",
       "      <td>dmn</td>\n",
       "      <td>Glove</td>\n",
       "      <td>0.793296</td>\n",
       "      <td>0.872781</td>\n",
       "    </tr>\n",
       "    <tr>\n",
       "      <th>21</th>\n",
       "      <td>subj2</td>\n",
       "      <td>task</td>\n",
       "      <td>CLS</td>\n",
       "      <td>0.770225</td>\n",
       "      <td>0.811979</td>\n",
       "    </tr>\n",
       "    <tr>\n",
       "      <th>22</th>\n",
       "      <td>subj2</td>\n",
       "      <td>task</td>\n",
       "      <td>Pooled</td>\n",
       "      <td>0.611143</td>\n",
       "      <td>0.899318</td>\n",
       "    </tr>\n",
       "    <tr>\n",
       "      <th>23</th>\n",
       "      <td>subj2</td>\n",
       "      <td>task</td>\n",
       "      <td>Glove</td>\n",
       "      <td>0.791518</td>\n",
       "      <td>0.885963</td>\n",
       "    </tr>\n",
       "  </tbody>\n",
       "</table>\n",
       "</div>"
      ],
      "text/plain": [
       "   Subject       ROI Embedding  2v2 accuracy   Pearson\n",
       "0    subj1  language       CLS      0.851097  0.806876\n",
       "1    subj1  language    Pooled      0.665391  0.910066\n",
       "2    subj1  language     Glove      0.881986  0.885710\n",
       "3    subj1    vision       CLS      0.825441  0.812491\n",
       "4    subj1    vision    Pooled      0.643786  0.908696\n",
       "5    subj1    vision     Glove      0.887269  0.890804\n",
       "6    subj1       dmn       CLS      0.830148  0.816743\n",
       "7    subj1       dmn    Pooled      0.683332  0.920663\n",
       "8    subj1       dmn     Glove      0.855053  0.889148\n",
       "9    subj1      task       CLS      0.809922  0.831265\n",
       "10   subj1      task    Pooled      0.626236  0.921438\n",
       "11   subj1      task     Glove      0.851764  0.900235\n",
       "12   subj2  language       CLS      0.803562  0.792401\n",
       "13   subj2  language    Pooled      0.634654  0.889766\n",
       "14   subj2  language     Glove      0.849050  0.875306\n",
       "15   subj2    vision       CLS      0.804871  0.799968\n",
       "16   subj2    vision    Pooled      0.624614  0.900928\n",
       "17   subj2    vision     Glove      0.841325  0.879648\n",
       "18   subj2       dmn       CLS      0.769784  0.793715\n",
       "19   subj2       dmn    Pooled      0.591512  0.889534\n",
       "20   subj2       dmn     Glove      0.793296  0.872781\n",
       "21   subj2      task       CLS      0.770225  0.811979\n",
       "22   subj2      task    Pooled      0.611143  0.899318\n",
       "23   subj2      task     Glove      0.791518  0.885963"
      ]
     },
     "execution_count": 55,
     "metadata": {},
     "output_type": "execute_result"
    }
   ],
   "source": [
    "decoding_dataframe"
   ]
  },
  {
   "cell_type": "code",
   "execution_count": 63,
   "metadata": {},
   "outputs": [
    {
     "data": {
      "image/png": "[encoded data removed]",
      "text/plain": [
       "<Figure size 1006.22x600 with 1 Axes>"
      ]
     },
     "metadata": {},
     "output_type": "display_data"
    }
   ],
   "source": [
    "#plot results using seaborn\n",
    "sns.set(style=\"whitegrid\")\n",
    "g = sns.catplot(x=\"ROI\", y=\"2v2 accuracy\", hue=\"Embedding\", data=decoding_dataframe, kind=\"bar\", height=6, aspect=1.5)\n",
    "g.set(ylim=(0, 1))\n",
    "plt.title('Decoding')\n",
    "plt.show()"
   ]
  },
  {
   "cell_type": "code",
   "execution_count": 62,
   "metadata": {},
   "outputs": [
    {
     "data": {
      "image/png": "[encoded data removed]",
      "text/plain": [
       "<Figure size 1006.22x600 with 1 Axes>"
      ]
     },
     "metadata": {},
     "output_type": "display_data"
    }
   ],
   "source": [
    "#plot results using seaborn\n",
    "sns.set(style=\"whitegrid\")\n",
    "g = sns.catplot(x=\"ROI\", y=\"Pearson\", hue=\"Embedding\", data=decoding_dataframe, kind=\"bar\", height=6, aspect=1.5)\n",
    "g.set(ylim=(0, 1))\n",
    "plt.title('Decoding')\n",
    "plt.show()"
   ]
  },
  {
   "cell_type": "markdown",
   "metadata": {},
   "source": [
    "### **Decoding:** \n",
    "### 2V2 accuracy results:\n",
    "1. Glove- Decoded better consistently across all RoIs.\n",
    "2. CLS- Slightly less than Glove.\n",
    "3. Pooled- Marginally less compared to both.\n",
    "### Pearson results:\n",
    "1. Pooled- Decoded better consistently across all RoIs.\n",
    "2. Glove- Only slightly less than Pooled.\n",
    "3. CLS- Marginally less compared to both."
   ]
  },
  {
   "cell_type": "markdown",
   "metadata": {},
   "source": [
    "# Encoding"
   ]
  },
  {
   "cell_type": "code",
   "execution_count": 49,
   "metadata": {},
   "outputs": [
    {
     "name": "stdout",
     "output_type": "stream",
     "text": [
      "Subject: subj1 ROI: language Embedding: CLS 2v2 accuracy: 0.6089257552483358 Pearson: 0.445051752070321\n",
      "Subject: subj1 ROI: language Embedding: Pooled 2v2 accuracy: 0.5747596518177163 Pearson: 0.3929168276997694\n",
      "Subject: subj1 ROI: language Embedding: Glove 2v2 accuracy: 0.7354359447004609 Pearson: 0.7176600535309441\n",
      "Subject: subj1 ROI: vision Embedding: CLS 2v2 accuracy: 0.5998447516641064 Pearson: 0.5129895546691632\n",
      "Subject: subj1 ROI: vision Embedding: Pooled 2v2 accuracy: 0.569026113671275 Pearson: 0.4647956784999644\n",
      "Subject: subj1 ROI: vision Embedding: Glove 2v2 accuracy: 0.7198640040962621 Pearson: 0.7661925197718092\n",
      "Subject: subj1 ROI: dmn Embedding: CLS 2v2 accuracy: 0.5615283154121864 Pearson: 0.24705082233262027\n",
      "Subject: subj1 ROI: dmn Embedding: Pooled 2v2 accuracy: 0.5285493087557603 Pearson: 0.2016406597375683\n",
      "Subject: subj1 ROI: dmn Embedding: Glove 2v2 accuracy: 0.6364804915514592 Pearson: 0.4929946021168285\n",
      "Subject: subj1 ROI: task Embedding: CLS 2v2 accuracy: 0.5524022529441884 Pearson: 0.23942530482634394\n",
      "Subject: subj1 ROI: task Embedding: Pooled 2v2 accuracy: 0.5403190988223245 Pearson: 0.21635364553363706\n",
      "Subject: subj1 ROI: task Embedding: Glove 2v2 accuracy: 0.6644927803379416 Pearson: 0.5171930410732715\n",
      "Subject: subj2 ROI: language Embedding: CLS 2v2 accuracy: 0.5859272913466462 Pearson: 0.2914125904355294\n",
      "Subject: subj2 ROI: language Embedding: Pooled 2v2 accuracy: 0.5539768561187917 Pearson: 0.24209672435371835\n",
      "Subject: subj2 ROI: language Embedding: Glove 2v2 accuracy: 0.6450281618023553 Pearson: 0.535783656923772\n",
      "Subject: subj2 ROI: vision Embedding: CLS 2v2 accuracy: 0.5802928827444956 Pearson: 0.47881067190369925\n",
      "Subject: subj2 ROI: vision Embedding: Pooled 2v2 accuracy: 0.5311164362519201 Pearson: 0.4012062335043889\n",
      "Subject: subj2 ROI: vision Embedding: Glove 2v2 accuracy: 0.6643944700460829 Pearson: 0.7293086487572504\n",
      "Subject: subj2 ROI: dmn Embedding: CLS 2v2 accuracy: 0.5459694828469022 Pearson: 0.18466200468122312\n",
      "Subject: subj2 ROI: dmn Embedding: Pooled 2v2 accuracy: 0.5152569380440348 Pearson: 0.1426497827666113\n",
      "Subject: subj2 ROI: dmn Embedding: Glove 2v2 accuracy: 0.5959668202764977 Pearson: 0.40015879469450794\n",
      "Subject: subj2 ROI: task Embedding: CLS 2v2 accuracy: 0.5271086533538146 Pearson: 0.14369881688964814\n",
      "Subject: subj2 ROI: task Embedding: Pooled 2v2 accuracy: 0.4976516129032258 Pearson: 0.10549149355813628\n",
      "Subject: subj2 ROI: task Embedding: Glove 2v2 accuracy: 0.5720180235535074 Pearson: 0.32959342450879914\n"
     ]
    }
   ],
   "source": [
    "encoding_dataframe = pd.DataFrame(columns=['Subject','ROI','Embedding','2v2 accuracy','Pearson'])\n",
    "for subject in all_subj.keys():\n",
    "    for roi in rois:\n",
    "        Y = all_subj[subject][roi]\n",
    "        for embedding in all_embeddings.keys():\n",
    "            # print('Subject:',subject,'ROI:',roi,'Embedding:',embedding)\n",
    "            kfolds = 5\n",
    "            kf = KFold(n_splits=kfolds)\n",
    "            acc_ls = []\n",
    "            pcorr_ls = []\n",
    "            for train_index, test_index in kf.split(Y):\n",
    "                Y_train, Y_test = Y[train_index], Y[test_index]\n",
    "                X_train, X_test = all_embeddings[embedding][train_index], all_embeddings[embedding][test_index]\n",
    "                reg = LinearRegression().fit(X_train, Y_train)\n",
    "                Y_pred = reg.predict(X_test)\n",
    "                acc_ls.append(twoVtwo_acc(Y_test, Y_pred))\n",
    "                pcorr_ls.append(pearson(Y_test, Y_pred))\n",
    "            print('Subject:',subject,'ROI:',roi,'Embedding:',embedding,'2v2 accuracy:',np.mean(acc_ls),'Pearson:',np.mean(pcorr_ls))\n",
    "            encoding_dataframe = encoding_dataframe.append({'Subject':subject,'ROI':roi,'Embedding':embedding,'2v2 accuracy':np.mean(acc_ls),'Pearson':np.mean(pcorr_ls)}, ignore_index=True)\n"
   ]
  },
  {
   "cell_type": "code",
   "execution_count": 53,
   "metadata": {},
   "outputs": [
    {
     "data": {
      "text/html": [
       "<div>\n",
       "<style scoped>\n",
       "    .dataframe tbody tr th:only-of-type {\n",
       "        vertical-align: middle;\n",
       "    }\n",
       "\n",
       "    .dataframe tbody tr th {\n",
       "        vertical-align: top;\n",
       "    }\n",
       "\n",
       "    .dataframe thead th {\n",
       "        text-align: right;\n",
       "    }\n",
       "</style>\n",
       "<table border=\"1\" class=\"dataframe\">\n",
       "  <thead>\n",
       "    <tr style=\"text-align: right;\">\n",
       "      <th></th>\n",
       "      <th>Subject</th>\n",
       "      <th>ROI</th>\n",
       "      <th>Embedding</th>\n",
       "      <th>2v2 accuracy</th>\n",
       "      <th>Pearson</th>\n",
       "    </tr>\n",
       "  </thead>\n",
       "  <tbody>\n",
       "    <tr>\n",
       "      <th>0</th>\n",
       "      <td>subj1</td>\n",
       "      <td>language</td>\n",
       "      <td>CLS</td>\n",
       "      <td>0.608926</td>\n",
       "      <td>0.445052</td>\n",
       "    </tr>\n",
       "    <tr>\n",
       "      <th>1</th>\n",
       "      <td>subj1</td>\n",
       "      <td>language</td>\n",
       "      <td>Pooled</td>\n",
       "      <td>0.574760</td>\n",
       "      <td>0.392917</td>\n",
       "    </tr>\n",
       "    <tr>\n",
       "      <th>2</th>\n",
       "      <td>subj1</td>\n",
       "      <td>language</td>\n",
       "      <td>Glove</td>\n",
       "      <td>0.735436</td>\n",
       "      <td>0.717660</td>\n",
       "    </tr>\n",
       "    <tr>\n",
       "      <th>3</th>\n",
       "      <td>subj1</td>\n",
       "      <td>vision</td>\n",
       "      <td>CLS</td>\n",
       "      <td>0.599845</td>\n",
       "      <td>0.512990</td>\n",
       "    </tr>\n",
       "    <tr>\n",
       "      <th>4</th>\n",
       "      <td>subj1</td>\n",
       "      <td>vision</td>\n",
       "      <td>Pooled</td>\n",
       "      <td>0.569026</td>\n",
       "      <td>0.464796</td>\n",
       "    </tr>\n",
       "    <tr>\n",
       "      <th>5</th>\n",
       "      <td>subj1</td>\n",
       "      <td>vision</td>\n",
       "      <td>Glove</td>\n",
       "      <td>0.719864</td>\n",
       "      <td>0.766193</td>\n",
       "    </tr>\n",
       "    <tr>\n",
       "      <th>6</th>\n",
       "      <td>subj1</td>\n",
       "      <td>dmn</td>\n",
       "      <td>CLS</td>\n",
       "      <td>0.561528</td>\n",
       "      <td>0.247051</td>\n",
       "    </tr>\n",
       "    <tr>\n",
       "      <th>7</th>\n",
       "      <td>subj1</td>\n",
       "      <td>dmn</td>\n",
       "      <td>Pooled</td>\n",
       "      <td>0.528549</td>\n",
       "      <td>0.201641</td>\n",
       "    </tr>\n",
       "    <tr>\n",
       "      <th>8</th>\n",
       "      <td>subj1</td>\n",
       "      <td>dmn</td>\n",
       "      <td>Glove</td>\n",
       "      <td>0.636480</td>\n",
       "      <td>0.492995</td>\n",
       "    </tr>\n",
       "    <tr>\n",
       "      <th>9</th>\n",
       "      <td>subj1</td>\n",
       "      <td>task</td>\n",
       "      <td>CLS</td>\n",
       "      <td>0.552402</td>\n",
       "      <td>0.239425</td>\n",
       "    </tr>\n",
       "    <tr>\n",
       "      <th>10</th>\n",
       "      <td>subj1</td>\n",
       "      <td>task</td>\n",
       "      <td>Pooled</td>\n",
       "      <td>0.540319</td>\n",
       "      <td>0.216354</td>\n",
       "    </tr>\n",
       "    <tr>\n",
       "      <th>11</th>\n",
       "      <td>subj1</td>\n",
       "      <td>task</td>\n",
       "      <td>Glove</td>\n",
       "      <td>0.664493</td>\n",
       "      <td>0.517193</td>\n",
       "    </tr>\n",
       "    <tr>\n",
       "      <th>12</th>\n",
       "      <td>subj2</td>\n",
       "      <td>language</td>\n",
       "      <td>CLS</td>\n",
       "      <td>0.585927</td>\n",
       "      <td>0.291413</td>\n",
       "    </tr>\n",
       "    <tr>\n",
       "      <th>13</th>\n",
       "      <td>subj2</td>\n",
       "      <td>language</td>\n",
       "      <td>Pooled</td>\n",
       "      <td>0.553977</td>\n",
       "      <td>0.242097</td>\n",
       "    </tr>\n",
       "    <tr>\n",
       "      <th>14</th>\n",
       "      <td>subj2</td>\n",
       "      <td>language</td>\n",
       "      <td>Glove</td>\n",
       "      <td>0.645028</td>\n",
       "      <td>0.535784</td>\n",
       "    </tr>\n",
       "    <tr>\n",
       "      <th>15</th>\n",
       "      <td>subj2</td>\n",
       "      <td>vision</td>\n",
       "      <td>CLS</td>\n",
       "      <td>0.580293</td>\n",
       "      <td>0.478811</td>\n",
       "    </tr>\n",
       "    <tr>\n",
       "      <th>16</th>\n",
       "      <td>subj2</td>\n",
       "      <td>vision</td>\n",
       "      <td>Pooled</td>\n",
       "      <td>0.531116</td>\n",
       "      <td>0.401206</td>\n",
       "    </tr>\n",
       "    <tr>\n",
       "      <th>17</th>\n",
       "      <td>subj2</td>\n",
       "      <td>vision</td>\n",
       "      <td>Glove</td>\n",
       "      <td>0.664394</td>\n",
       "      <td>0.729309</td>\n",
       "    </tr>\n",
       "    <tr>\n",
       "      <th>18</th>\n",
       "      <td>subj2</td>\n",
       "      <td>dmn</td>\n",
       "      <td>CLS</td>\n",
       "      <td>0.545969</td>\n",
       "      <td>0.184662</td>\n",
       "    </tr>\n",
       "    <tr>\n",
       "      <th>19</th>\n",
       "      <td>subj2</td>\n",
       "      <td>dmn</td>\n",
       "      <td>Pooled</td>\n",
       "      <td>0.515257</td>\n",
       "      <td>0.142650</td>\n",
       "    </tr>\n",
       "    <tr>\n",
       "      <th>20</th>\n",
       "      <td>subj2</td>\n",
       "      <td>dmn</td>\n",
       "      <td>Glove</td>\n",
       "      <td>0.595967</td>\n",
       "      <td>0.400159</td>\n",
       "    </tr>\n",
       "    <tr>\n",
       "      <th>21</th>\n",
       "      <td>subj2</td>\n",
       "      <td>task</td>\n",
       "      <td>CLS</td>\n",
       "      <td>0.527109</td>\n",
       "      <td>0.143699</td>\n",
       "    </tr>\n",
       "    <tr>\n",
       "      <th>22</th>\n",
       "      <td>subj2</td>\n",
       "      <td>task</td>\n",
       "      <td>Pooled</td>\n",
       "      <td>0.497652</td>\n",
       "      <td>0.105491</td>\n",
       "    </tr>\n",
       "    <tr>\n",
       "      <th>23</th>\n",
       "      <td>subj2</td>\n",
       "      <td>task</td>\n",
       "      <td>Glove</td>\n",
       "      <td>0.572018</td>\n",
       "      <td>0.329593</td>\n",
       "    </tr>\n",
       "  </tbody>\n",
       "</table>\n",
       "</div>"
      ],
      "text/plain": [
       "   Subject       ROI Embedding  2v2 accuracy   Pearson\n",
       "0    subj1  language       CLS      0.608926  0.445052\n",
       "1    subj1  language    Pooled      0.574760  0.392917\n",
       "2    subj1  language     Glove      0.735436  0.717660\n",
       "3    subj1    vision       CLS      0.599845  0.512990\n",
       "4    subj1    vision    Pooled      0.569026  0.464796\n",
       "5    subj1    vision     Glove      0.719864  0.766193\n",
       "6    subj1       dmn       CLS      0.561528  0.247051\n",
       "7    subj1       dmn    Pooled      0.528549  0.201641\n",
       "8    subj1       dmn     Glove      0.636480  0.492995\n",
       "9    subj1      task       CLS      0.552402  0.239425\n",
       "10   subj1      task    Pooled      0.540319  0.216354\n",
       "11   subj1      task     Glove      0.664493  0.517193\n",
       "12   subj2  language       CLS      0.585927  0.291413\n",
       "13   subj2  language    Pooled      0.553977  0.242097\n",
       "14   subj2  language     Glove      0.645028  0.535784\n",
       "15   subj2    vision       CLS      0.580293  0.478811\n",
       "16   subj2    vision    Pooled      0.531116  0.401206\n",
       "17   subj2    vision     Glove      0.664394  0.729309\n",
       "18   subj2       dmn       CLS      0.545969  0.184662\n",
       "19   subj2       dmn    Pooled      0.515257  0.142650\n",
       "20   subj2       dmn     Glove      0.595967  0.400159\n",
       "21   subj2      task       CLS      0.527109  0.143699\n",
       "22   subj2      task    Pooled      0.497652  0.105491\n",
       "23   subj2      task     Glove      0.572018  0.329593"
      ]
     },
     "execution_count": 53,
     "metadata": {},
     "output_type": "execute_result"
    }
   ],
   "source": [
    "encoding_dataframe"
   ]
  },
  {
   "cell_type": "code",
   "execution_count": 60,
   "metadata": {},
   "outputs": [
    {
     "data": {
      "image/png": "[encoded data removed]",
      "text/plain": [
       "<Figure size 1006.22x600 with 1 Axes>"
      ]
     },
     "metadata": {},
     "output_type": "display_data"
    }
   ],
   "source": [
    "#plot results using seaborn\n",
    "sns.set(style=\"whitegrid\")\n",
    "g = sns.catplot(x=\"ROI\", y=\"2v2 accuracy\", hue=\"Embedding\", data=encoding_dataframe, kind=\"bar\", height=6, aspect=1.5)\n",
    "g.set(ylim=(0, 1))\n",
    "plt.title('Encoding')\n",
    "plt.show()"
   ]
  },
  {
   "cell_type": "code",
   "execution_count": 61,
   "metadata": {},
   "outputs": [
    {
     "data": {
      "image/png": "[encoded data removed]",
      "text/plain": [
       "<Figure size 1006.22x600 with 1 Axes>"
      ]
     },
     "metadata": {},
     "output_type": "display_data"
    }
   ],
   "source": [
    "#plot results using seaborn\n",
    "sns.set(style=\"whitegrid\")\n",
    "g = sns.catplot(x=\"ROI\", y=\"Pearson\", hue=\"Embedding\", data=encoding_dataframe, kind=\"bar\", height=6, aspect=1.5)\n",
    "g.set(ylim=(0, 1))\n",
    "plt.title('Encoding')\n",
    "plt.show()"
   ]
  },
  {
   "cell_type": "markdown",
   "metadata": {},
   "source": [
    "### **Encoding:** \n",
    "### 2V2 accuracy results:\n",
    "1. Glove- Performs marginally and consistently better across all RoIs.\n",
    "2. CLS- Less than Glove across RoIs.\n",
    "3. Pooled- Slightly less than CLS across RoIS.\n",
    "### Pearson results:\n",
    "1. Glove- Performs marginally better than rest across all RoIs.\n",
    "2. CLS- Less than Glove across RoIs.\n",
    "3. Pooled- Slightly less than CLS across RoIS."
   ]
  },
  {
   "cell_type": "markdown",
   "metadata": {},
   "source": [
    "# Conclusion"
   ]
  },
  {
   "cell_type": "markdown",
   "metadata": {},
   "source": [
    "- **Task**: [Decoding, Encoding]\n",
    "   - Results suggests that classification based decoding task is easier to perform than the encoding task. Which may not be true if we try to generate the original stimulus.  \n",
    "- **RoIs**: ['language', 'vision', 'dmn', 'task']\n",
    "   - We get to see that all the RoIs were most of the time encoded or decoded correctly but Vision and Language was solved better than other. This may be because the fMRI data was collected such that the subjects had to look at the text and understand it as well leading to relevant activations in Language and Vision RoIs.\n",
    "- **Embeddings**: ['CLS', 'Pooled', 'Glove']\n",
    "   - GloVe embeddings excel in capturing broad semantic relationships\n",
    "   - BERT's CLS token captures contextual information effectively but might not be crucial in tasks where semantic content is paramount.\n",
    "   - BERT's pooled embeddings lose some contextual nuances compared to the entire sequence representation."
   ]
  },
  {
   "cell_type": "code",
   "execution_count": null,
   "metadata": {},
   "outputs": [],
   "source": []
  }
 ],
 "metadata": {
  "kernelspec": {
   "display_name": "temporal",
   "language": "python",
   "name": "python3"
  },
  "language_info": {
   "codemirror_mode": {
    "name": "ipython",
    "version": 3
   },
   "file_extension": ".py",
   "mimetype": "text/x-python",
   "name": "python",
   "nbconvert_exporter": "python",
   "pygments_lexer": "ipython3",
   "version": "3.10.11"
  }
 },
 "nbformat": 4,
 "nbformat_minor": 2
}
